{
 "cells": [
  {
   "cell_type": "code",
   "execution_count": 3,
   "metadata": {
    "collapsed": true
   },
   "outputs": [],
   "source": [
    "import pandas as pd\n",
    "import os\n",
    "import xsens_functions as xsn"
   ]
  },
  {
   "cell_type": "code",
   "execution_count": 1,
   "outputs": [],
   "source": [
    "# specify the directory path\n",
    "file_dir = r\"C:\\Users\\guisi\\Documents\\Tese\\MT Files\\Test 1\"\n",
    "mapping_dir = r\"C:\\Users\\guisi\\Documents\\Tese\\sensor_nomes.txt\""
   ],
   "metadata": {
    "collapsed": false
   }
  },
  {
   "cell_type": "code",
   "execution_count": 4,
   "outputs": [],
   "source": [
    "mapping = xsn.read_sensor_mapping(mapping_dir)"
   ],
   "metadata": {
    "collapsed": false
   }
  },
  {
   "cell_type": "code",
   "execution_count": 5,
   "outputs": [
    {
     "data": {
      "text/plain": "               fArmL_Roll  fArmL_Pitch   fArmL_Yaw  HandR_Roll  HandR_Pitch  \\\nPacketCounter                                                                 \n44489           83.542700    71.049331 -150.569152  -15.652252    26.180328   \n44490           83.568544    71.050917 -150.525317  -15.617832    26.187923   \n44491           83.580639    71.051210 -150.514223  -15.588376    26.195894   \n44492           83.585770    71.051048 -150.521492  -15.559577    26.210260   \n44493           83.582198    71.053271 -150.519849  -15.520628    26.231308   \n...                   ...          ...         ...         ...          ...   \n44921          108.698333    55.689649 -135.737089  127.346160    49.565285   \n44922          108.651663    55.923389 -136.310086  126.457713    50.545201   \n44923          108.545336    56.199513 -136.987215  125.570870    51.507929   \n44924          108.459396    56.468882 -137.628861  124.684288    52.471141   \n44925          108.398525    56.757826 -138.156147  123.825938    53.445375   \n\n                HandR_Yaw  HandL_Roll  HandL_Pitch  HandL_Yaw  uLegR_Roll  \\\nPacketCounter                                                               \n44489         -104.583960 -136.150450    36.530339  81.376687  -83.278248   \n44490         -104.545387 -136.142441    36.529224  81.389046  -83.286635   \n44491         -104.509290 -136.132294    36.527401  81.408014  -83.290898   \n44492         -104.472358 -136.123960    36.521572  81.417992  -83.296521   \n44493         -104.422454 -136.117557    36.519891  81.427230  -83.299844   \n...                   ...         ...          ...        ...         ...   \n44921           90.138625 -135.784795    47.366123  81.776582  -74.269433   \n44922           89.165662 -135.980450    47.132867  81.111959  -74.370452   \n44923           88.269682 -136.163341    46.930895  80.418678  -74.480521   \n44924           87.413460 -136.309928    46.740743  79.769809  -74.664362   \n44925           86.571677 -136.457641    46.561096  79.168216  -74.972663   \n\n               ...  uArmR_Yaw  FootR_Roll  FootR_Pitch  FootR_Yaw  uLegL_Roll  \\\nPacketCounter  ...                                                              \n44489          ... -66.094604  -13.610500   -28.539744 -66.024855  109.279406   \n44490          ... -66.112467  -13.615405   -28.537666 -66.021512  109.273616   \n44491          ... -66.136040  -13.619099   -28.535807 -66.020000  109.268081   \n44492          ... -66.158606  -13.624225   -28.534043 -66.016924  109.263741   \n44493          ... -66.182533  -13.625393   -28.532701 -66.016630  109.259395   \n...            ...        ...         ...          ...        ...         ...   \n44921          ... -11.163227  -16.258162   -28.292420 -67.695972  113.535771   \n44922          ... -11.795220  -16.218658   -28.419659 -67.693941  113.962049   \n44923          ... -12.441584  -16.211625   -28.537282 -67.680393  113.512736   \n44924          ... -13.112307  -16.235125   -28.642704 -67.671710  113.433474   \n44925          ... -13.840396  -16.265353   -28.764129 -67.660532  112.922579   \n\n               uLegL_Pitch  uLegL_Yaw  fArmR_Roll  fArmR_Pitch  fArmR_Yaw  \nPacketCounter                                                              \n44489            -4.799954 -37.098986  -81.513169    12.887167  23.821052  \n44490            -4.803156 -37.093536  -81.556074    12.896320  23.816681  \n44491            -4.802434 -37.092542  -81.596397    12.906668  23.810710  \n44492            -4.804450 -37.089049  -81.647794    12.916029  23.800069  \n44493            -4.806440 -37.085555  -81.715773    12.926712  23.783182  \n...                    ...        ...         ...          ...        ...  \n44921            -3.215850 -44.135989  -47.640499    55.505013  99.219221  \n44922            -2.681665 -44.693285  -47.901588    55.185462  98.893615  \n44923            -2.595496 -44.783307  -48.313840    54.787159  98.575683  \n44924            -2.443334 -45.080679  -48.819687    54.353621  98.280349  \n44925            -2.514044 -45.256640  -49.331336    53.927057  97.978852  \n\n[437 rows x 48 columns]",
      "text/html": "<div>\n<style scoped>\n    .dataframe tbody tr th:only-of-type {\n        vertical-align: middle;\n    }\n\n    .dataframe tbody tr th {\n        vertical-align: top;\n    }\n\n    .dataframe thead th {\n        text-align: right;\n    }\n</style>\n<table border=\"1\" class=\"dataframe\">\n  <thead>\n    <tr style=\"text-align: right;\">\n      <th></th>\n      <th>fArmL_Roll</th>\n      <th>fArmL_Pitch</th>\n      <th>fArmL_Yaw</th>\n      <th>HandR_Roll</th>\n      <th>HandR_Pitch</th>\n      <th>HandR_Yaw</th>\n      <th>HandL_Roll</th>\n      <th>HandL_Pitch</th>\n      <th>HandL_Yaw</th>\n      <th>uLegR_Roll</th>\n      <th>...</th>\n      <th>uArmR_Yaw</th>\n      <th>FootR_Roll</th>\n      <th>FootR_Pitch</th>\n      <th>FootR_Yaw</th>\n      <th>uLegL_Roll</th>\n      <th>uLegL_Pitch</th>\n      <th>uLegL_Yaw</th>\n      <th>fArmR_Roll</th>\n      <th>fArmR_Pitch</th>\n      <th>fArmR_Yaw</th>\n    </tr>\n    <tr>\n      <th>PacketCounter</th>\n      <th></th>\n      <th></th>\n      <th></th>\n      <th></th>\n      <th></th>\n      <th></th>\n      <th></th>\n      <th></th>\n      <th></th>\n      <th></th>\n      <th></th>\n      <th></th>\n      <th></th>\n      <th></th>\n      <th></th>\n      <th></th>\n      <th></th>\n      <th></th>\n      <th></th>\n      <th></th>\n      <th></th>\n    </tr>\n  </thead>\n  <tbody>\n    <tr>\n      <th>44489</th>\n      <td>83.542700</td>\n      <td>71.049331</td>\n      <td>-150.569152</td>\n      <td>-15.652252</td>\n      <td>26.180328</td>\n      <td>-104.583960</td>\n      <td>-136.150450</td>\n      <td>36.530339</td>\n      <td>81.376687</td>\n      <td>-83.278248</td>\n      <td>...</td>\n      <td>-66.094604</td>\n      <td>-13.610500</td>\n      <td>-28.539744</td>\n      <td>-66.024855</td>\n      <td>109.279406</td>\n      <td>-4.799954</td>\n      <td>-37.098986</td>\n      <td>-81.513169</td>\n      <td>12.887167</td>\n      <td>23.821052</td>\n    </tr>\n    <tr>\n      <th>44490</th>\n      <td>83.568544</td>\n      <td>71.050917</td>\n      <td>-150.525317</td>\n      <td>-15.617832</td>\n      <td>26.187923</td>\n      <td>-104.545387</td>\n      <td>-136.142441</td>\n      <td>36.529224</td>\n      <td>81.389046</td>\n      <td>-83.286635</td>\n      <td>...</td>\n      <td>-66.112467</td>\n      <td>-13.615405</td>\n      <td>-28.537666</td>\n      <td>-66.021512</td>\n      <td>109.273616</td>\n      <td>-4.803156</td>\n      <td>-37.093536</td>\n      <td>-81.556074</td>\n      <td>12.896320</td>\n      <td>23.816681</td>\n    </tr>\n    <tr>\n      <th>44491</th>\n      <td>83.580639</td>\n      <td>71.051210</td>\n      <td>-150.514223</td>\n      <td>-15.588376</td>\n      <td>26.195894</td>\n      <td>-104.509290</td>\n      <td>-136.132294</td>\n      <td>36.527401</td>\n      <td>81.408014</td>\n      <td>-83.290898</td>\n      <td>...</td>\n      <td>-66.136040</td>\n      <td>-13.619099</td>\n      <td>-28.535807</td>\n      <td>-66.020000</td>\n      <td>109.268081</td>\n      <td>-4.802434</td>\n      <td>-37.092542</td>\n      <td>-81.596397</td>\n      <td>12.906668</td>\n      <td>23.810710</td>\n    </tr>\n    <tr>\n      <th>44492</th>\n      <td>83.585770</td>\n      <td>71.051048</td>\n      <td>-150.521492</td>\n      <td>-15.559577</td>\n      <td>26.210260</td>\n      <td>-104.472358</td>\n      <td>-136.123960</td>\n      <td>36.521572</td>\n      <td>81.417992</td>\n      <td>-83.296521</td>\n      <td>...</td>\n      <td>-66.158606</td>\n      <td>-13.624225</td>\n      <td>-28.534043</td>\n      <td>-66.016924</td>\n      <td>109.263741</td>\n      <td>-4.804450</td>\n      <td>-37.089049</td>\n      <td>-81.647794</td>\n      <td>12.916029</td>\n      <td>23.800069</td>\n    </tr>\n    <tr>\n      <th>44493</th>\n      <td>83.582198</td>\n      <td>71.053271</td>\n      <td>-150.519849</td>\n      <td>-15.520628</td>\n      <td>26.231308</td>\n      <td>-104.422454</td>\n      <td>-136.117557</td>\n      <td>36.519891</td>\n      <td>81.427230</td>\n      <td>-83.299844</td>\n      <td>...</td>\n      <td>-66.182533</td>\n      <td>-13.625393</td>\n      <td>-28.532701</td>\n      <td>-66.016630</td>\n      <td>109.259395</td>\n      <td>-4.806440</td>\n      <td>-37.085555</td>\n      <td>-81.715773</td>\n      <td>12.926712</td>\n      <td>23.783182</td>\n    </tr>\n    <tr>\n      <th>...</th>\n      <td>...</td>\n      <td>...</td>\n      <td>...</td>\n      <td>...</td>\n      <td>...</td>\n      <td>...</td>\n      <td>...</td>\n      <td>...</td>\n      <td>...</td>\n      <td>...</td>\n      <td>...</td>\n      <td>...</td>\n      <td>...</td>\n      <td>...</td>\n      <td>...</td>\n      <td>...</td>\n      <td>...</td>\n      <td>...</td>\n      <td>...</td>\n      <td>...</td>\n      <td>...</td>\n    </tr>\n    <tr>\n      <th>44921</th>\n      <td>108.698333</td>\n      <td>55.689649</td>\n      <td>-135.737089</td>\n      <td>127.346160</td>\n      <td>49.565285</td>\n      <td>90.138625</td>\n      <td>-135.784795</td>\n      <td>47.366123</td>\n      <td>81.776582</td>\n      <td>-74.269433</td>\n      <td>...</td>\n      <td>-11.163227</td>\n      <td>-16.258162</td>\n      <td>-28.292420</td>\n      <td>-67.695972</td>\n      <td>113.535771</td>\n      <td>-3.215850</td>\n      <td>-44.135989</td>\n      <td>-47.640499</td>\n      <td>55.505013</td>\n      <td>99.219221</td>\n    </tr>\n    <tr>\n      <th>44922</th>\n      <td>108.651663</td>\n      <td>55.923389</td>\n      <td>-136.310086</td>\n      <td>126.457713</td>\n      <td>50.545201</td>\n      <td>89.165662</td>\n      <td>-135.980450</td>\n      <td>47.132867</td>\n      <td>81.111959</td>\n      <td>-74.370452</td>\n      <td>...</td>\n      <td>-11.795220</td>\n      <td>-16.218658</td>\n      <td>-28.419659</td>\n      <td>-67.693941</td>\n      <td>113.962049</td>\n      <td>-2.681665</td>\n      <td>-44.693285</td>\n      <td>-47.901588</td>\n      <td>55.185462</td>\n      <td>98.893615</td>\n    </tr>\n    <tr>\n      <th>44923</th>\n      <td>108.545336</td>\n      <td>56.199513</td>\n      <td>-136.987215</td>\n      <td>125.570870</td>\n      <td>51.507929</td>\n      <td>88.269682</td>\n      <td>-136.163341</td>\n      <td>46.930895</td>\n      <td>80.418678</td>\n      <td>-74.480521</td>\n      <td>...</td>\n      <td>-12.441584</td>\n      <td>-16.211625</td>\n      <td>-28.537282</td>\n      <td>-67.680393</td>\n      <td>113.512736</td>\n      <td>-2.595496</td>\n      <td>-44.783307</td>\n      <td>-48.313840</td>\n      <td>54.787159</td>\n      <td>98.575683</td>\n    </tr>\n    <tr>\n      <th>44924</th>\n      <td>108.459396</td>\n      <td>56.468882</td>\n      <td>-137.628861</td>\n      <td>124.684288</td>\n      <td>52.471141</td>\n      <td>87.413460</td>\n      <td>-136.309928</td>\n      <td>46.740743</td>\n      <td>79.769809</td>\n      <td>-74.664362</td>\n      <td>...</td>\n      <td>-13.112307</td>\n      <td>-16.235125</td>\n      <td>-28.642704</td>\n      <td>-67.671710</td>\n      <td>113.433474</td>\n      <td>-2.443334</td>\n      <td>-45.080679</td>\n      <td>-48.819687</td>\n      <td>54.353621</td>\n      <td>98.280349</td>\n    </tr>\n    <tr>\n      <th>44925</th>\n      <td>108.398525</td>\n      <td>56.757826</td>\n      <td>-138.156147</td>\n      <td>123.825938</td>\n      <td>53.445375</td>\n      <td>86.571677</td>\n      <td>-136.457641</td>\n      <td>46.561096</td>\n      <td>79.168216</td>\n      <td>-74.972663</td>\n      <td>...</td>\n      <td>-13.840396</td>\n      <td>-16.265353</td>\n      <td>-28.764129</td>\n      <td>-67.660532</td>\n      <td>112.922579</td>\n      <td>-2.514044</td>\n      <td>-45.256640</td>\n      <td>-49.331336</td>\n      <td>53.927057</td>\n      <td>97.978852</td>\n    </tr>\n  </tbody>\n</table>\n<p>437 rows × 48 columns</p>\n</div>"
     },
     "execution_count": 5,
     "metadata": {},
     "output_type": "execute_result"
    }
   ],
   "source": [
    "data= xsn.import_sensor_data(directory= file_dir, sensor_map= mapping)\n",
    "data"
   ],
   "metadata": {
    "collapsed": false
   }
  },
  {
   "cell_type": "code",
   "execution_count": null,
   "outputs": [],
   "source": [],
   "metadata": {
    "collapsed": false
   }
  }
 ],
 "metadata": {
  "kernelspec": {
   "display_name": "Python 3",
   "language": "python",
   "name": "python3"
  },
  "language_info": {
   "codemirror_mode": {
    "name": "ipython",
    "version": 2
   },
   "file_extension": ".py",
   "mimetype": "text/x-python",
   "name": "python",
   "nbconvert_exporter": "python",
   "pygments_lexer": "ipython2",
   "version": "2.7.6"
  }
 },
 "nbformat": 4,
 "nbformat_minor": 0
}
